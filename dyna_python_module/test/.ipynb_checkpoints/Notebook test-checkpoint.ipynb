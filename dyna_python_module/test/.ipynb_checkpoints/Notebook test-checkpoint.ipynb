{
 "cells": [
  {
   "cell_type": "code",
   "execution_count": 4,
   "id": "2660feb8",
   "metadata": {},
   "outputs": [],
   "source": [
    "from dyna import Dyna\n",
    "\n",
    "d = Dyna()"
   ]
  },
  {
   "cell_type": "code",
   "execution_count": 7,
   "id": "7d6c2fe5",
   "metadata": {},
   "outputs": [],
   "source": [
    "%%dyna\n",
    "\n",
    "fib(N) := fib(N-1) + fib(N-2).\n",
    "fib(0) := 0.\n",
    "fib(1) := 1."
   ]
  },
  {
   "cell_type": "code",
   "execution_count": null,
   "id": "ab6fdad7",
   "metadata": {},
   "outputs": [],
   "source": [
    "%%dyna\n",
    "\n",
    "% fib(5)?"
   ]
  },
  {
   "cell_type": "code",
   "execution_count": 6,
   "id": "515c277c",
   "metadata": {},
   "outputs": [
    {
     "data": {
      "text/html": [
       "<table><tr><td>3</td></tr><tr><td>9</td></tr></table>"
      ],
      "text/plain": [
       "[3, 9]"
      ]
     },
     "execution_count": 6,
     "metadata": {},
     "output_type": "execute_result"
    }
   ],
   "source": [
    "%%dyna\n",
    "\n",
    "1 + 2?\n",
    "\n",
    "4 + 5?"
   ]
  },
  {
   "cell_type": "code",
   "execution_count": null,
   "id": "3acdcf21",
   "metadata": {},
   "outputs": [],
   "source": []
  }
 ],
 "metadata": {
  "kernelspec": {
   "display_name": "Python 3 (ipykernel)",
   "language": "python",
   "name": "python3"
  },
  "language_info": {
   "codemirror_mode": {
    "name": "ipython",
    "version": 3
   },
   "file_extension": ".py",
   "mimetype": "text/x-python",
   "name": "python",
   "nbconvert_exporter": "python",
   "pygments_lexer": "ipython3",
   "version": "3.10.9"
  }
 },
 "nbformat": 4,
 "nbformat_minor": 5
}
